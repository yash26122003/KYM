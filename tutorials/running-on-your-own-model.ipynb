{
 "cells": [
  {
   "cell_type": "markdown",
   "source": [
    "# Running TalkToModel On Your Own Model & Dataset!\n",
    "\n",
    "In this tutorial, we describe how to run TTM on your own model and dataset. For the sake of this tutorial, I'm going to setup TTM on a [Dermatology Dataset](https://datahub.io/machine-learning/dermatology) and train a sklearn random forest classifier, though its assumed you're bringing your own model & dataset.\n",
    "\n",
    "Your model must,\n",
    "- be saved in a .pkl file that can be opened via pkl.load and supports both .predict(X) and .predict_proba(X), in the same style as sklearn\n",
    "For your dataset,\n",
    "\n",
    "Your dataset must,\n",
    "- be saved in .csv files and can be called via pd.read_csv(your_data_set_location), where one of the columns is the target variable. This column name can be specified in the interface. Also, the configuration supports passing an index_col argument to read_csv to specify an index column in the data."
   ],
   "metadata": {
    "collapsed": false,
    "pycharm": {
     "name": "#%% md\n"
    }
   }
  },
  {
   "cell_type": "code",
   "execution_count": 1,
   "outputs": [],
   "source": [
    "import pandas as pd\n",
    "import numpy as np\n",
    "np.random.seed(0)"
   ],
   "metadata": {
    "collapsed": false,
    "pycharm": {
     "name": "#%%\n"
    }
   }
  },
  {
   "cell_type": "code",
   "execution_count": 2,
   "outputs": [],
   "source": [
    "from sklearn.ensemble import RandomForestClassifier\n",
    "from sklearn.model_selection import train_test_split"
   ],
   "metadata": {
    "collapsed": false,
    "pycharm": {
     "name": "#%%\n"
    }
   }
  },
  {
   "cell_type": "code",
   "execution_count": 3,
   "outputs": [
    {
     "name": "stdout",
     "output_type": "stream",
     "text": [
      "1 6\n",
      "0 5\n"
     ]
    }
   ],
   "source": [
    "# Loading + splitting the data\n",
    "data = pd.read_csv(\"./data/derm.csv\", index_col=None)\n",
    "y = data.pop('class')\n",
    "\n",
    "# I noticed that having class labels on a range besides 0 ==> N introduces some bugs because of the way certain explanation packages we use handle these labels...\n",
    "# I suggest adjusting them to start with 0. In general, we developed this project using binary classification tasks, so it's a bit better tested for this setting.\n",
    "print(y.min(), y.max())\n",
    "y += -1\n",
    "print(y.min(), y.max())"
   ],
   "metadata": {
    "collapsed": false,
    "pycharm": {
     "name": "#%%\n"
    }
   }
  },
  {
   "cell_type": "code",
   "execution_count": 4,
   "outputs": [],
   "source": [
    "X_train, X_test, y_train, y_test = train_test_split(data, y)\n",
    "X_train = X_train.fillna(X_train.mean())\n",
    "X_test = X_test.fillna(X_train.mean())"
   ],
   "metadata": {
    "collapsed": false,
    "pycharm": {
     "name": "#%%\n"
    }
   }
  },
  {
   "cell_type": "code",
   "execution_count": 5,
   "outputs": [
    {
     "name": "stdout",
     "output_type": "stream",
     "text": [
      "Score: 0.9565217391304348\n"
     ]
    }
   ],
   "source": [
    "# fitting the model\n",
    "from sklearn.preprocessing import StandardScaler\n",
    "from sklearn.pipeline import Pipeline\n",
    "\n",
    "# Model\n",
    "rf_pipeline = Pipeline([('scaler', StandardScaler()),\n",
    "                        ('rf', RandomForestClassifier())])\n",
    "rf_pipeline.fit(X_train.values, y_train.values)\n",
    "print(f\"Score: {rf_pipeline.score(X_test.values, y_test.values)}\")"
   ],
   "metadata": {
    "collapsed": false,
    "pycharm": {
     "name": "#%%\n"
    }
   }
  },
  {
   "cell_type": "markdown",
   "source": [
    "Next, we'll save the dataset with the target as 'y' and the model in a .pkl."
   ],
   "metadata": {
    "collapsed": false,
    "pycharm": {
     "name": "#%% md\n"
    }
   }
  },
  {
   "cell_type": "code",
   "execution_count": 6,
   "outputs": [],
   "source": [
    "import pickle as pkl\n",
    "X_train['y'] = y_train\n",
    "X_train.to_csv(\"./data/background_derm.csv\")\n",
    "X_test['y'] = y_test\n",
    "X_test.to_csv(\"./data/dataset_derm.csv\")\n",
    "with open(\"./data/derm_model.pkl\", \"wb\") as f:\n",
    "    pkl.dump(rf_pipeline, f)"
   ],
   "metadata": {
    "collapsed": false,
    "pycharm": {
     "name": "#%%\n"
    }
   }
  },
  {
   "cell_type": "markdown",
   "source": [
    "## Using Few-Shot Parsing Model\n",
    "\n",
    "After, we'll write a gin configuration file for the model. Note, this can be done by just copying the diabetes-config.gin and changing the paths to the model and data splits.\n",
    "\n",
    "Also, because we don't have a fine-tuned model (yet) for this dataset, I'm using a few-shot model. This model will create a set of prompts for your dataset that will be used to prompt a GPT style model few shot to do the parsing task. This model is quicker to get started with but has comparatively lower performance than fine-tuning. You could additionally try using one of the diabetes, german, or compas fine-tuned models, which works ok though the dataset is different, due to the guided-decoding strategy used for parsing (see the [paper](https://arxiv.org/abs/2207.04154) for more details on this).\n",
    "\n",
    "Here is the modified config (remove the python comments \"\"\" before using)"
   ],
   "metadata": {
    "collapsed": false,
    "pycharm": {
     "name": "#%% md\n"
    }
   }
  },
  {
   "cell_type": "code",
   "source": [
    "\"\"\"\n",
    "##########################################\n",
    "# The new dermatology dataset conversation config\n",
    "##########################################\n",
    "\n",
    "# for few shot, e.g., \"EleutherAI/gpt-neo-2.7B\"\n",
    "ExplainBot.parsing_model_name = \"EleutherAI/gpt-neo-2.7B\"\n",
    "\n",
    "# Set skip_prompts to true for quicker startup for finetuned models\n",
    "# make sure to set to false using few-shot models\n",
    "ExplainBot.skip_prompts = False\n",
    "\n",
    "# t5 configuration file\n",
    "ExplainBot.t5_config = \"./parsing/t5/gin_configs/t5-large.gin\"\n",
    "\n",
    "# User provided prediction model file path\n",
    "ExplainBot.model_file_path = \"./tutorials/data/derm_model.pkl\"\n",
    "\n",
    "# Seed\n",
    "ExplainBot.seed = 0\n",
    "\n",
    "# The dataset to run the conversation on\n",
    "ExplainBot.dataset_file_path = \"./tutorials/data/dataset_derm.csv\"\n",
    "\n",
    "# The background dataset for the conversation\n",
    "ExplainBot.background_dataset_file_path = \"./data/background_derm.csv\"\n",
    "ExplainBot.name = \"dermatology\"\n",
    "\n",
    "# Dataset feature information\n",
    "ExplainBot.dataset_index_column = 0\n",
    "ExplainBot.target_variable_name = \"y\"\n",
    "ExplainBot.categorical_features = None\n",
    "ExplainBot.numerical_features = None\n",
    "ExplainBot.remove_underscores = True\n",
    "\n",
    "# Few-shot settings\n",
    "ExplainBot.prompt_metric = \"cosine\"\n",
    "ExplainBot.prompt_ordering = \"ascending\"\n",
    "\n",
    "# Prompt params\n",
    "Prompts.prompt_cache_size = 1_000_000\n",
    "Prompts.prompt_cache_location = \"./cache/diabetes-prompts.pkl\"\n",
    "Prompts.max_values_per_feature = 2\n",
    "Prompts.sentence_transformer_model_name = \"all-mpnet-base-v2\"\n",
    "Prompts.prompt_folder = \"./explain/prompts\"\n",
    "Prompts.num_per_knn_prompt_template = 1\n",
    "Prompts.num_prompt_template = 7\n",
    "\n",
    "# Explanation Params\n",
    "Explanation.max_cache_size = 1_000_000\n",
    "\n",
    "# MegaExplainer Params\n",
    "MegaExplainer.cache_location = \"./cache/dermatology-explainer.pkl\"\n",
    "MegaExplainer.use_selection = False\n",
    "\n",
    "# Tabular Dice Params\n",
    "TabularDice.cache_location = \"./cache/dermatology-dice-tabular.pkl\"\n",
    "\n",
    "# Conversation params\n",
    "Conversation.class_names = {1: \"psoriasis\", 2: \"seboreic dermatitis\", 3: \"lichen planus\", 4: \"pityriasis rosea\", 5: \"cronic dermatitis\", 6: \"pityriasis rubra pilaris\"}\n",
    "\n",
    "# Dataset description\n",
    "DatasetDescription.dataset_objective = \"predict whether someone has certain types of skin conditions\"\n",
    "DatasetDescription.dataset_description = \"dermatology prediction\"\n",
    "DatasetDescription.model_description = \"random forrest\"\n",
    "\n",
    "# Feature definitions\n",
    "ExplainBot.feature_definitions = None\n",
    "\"\"\""
   ],
   "metadata": {
    "collapsed": false,
    "pycharm": {
     "name": "#%%\n"
    }
   },
   "execution_count": 7,
   "outputs": [
    {
     "data": {
      "text/plain": "'\\n##########################################\\n# The new dermatology dataset conversation config\\n##########################################\\n\\n# for few shot, e.g., \"EleutherAI/gpt-neo-2.7B\"\\nExplainBot.parsing_model_name = \"EleutherAI/gpt-neo-2.7B\"\\n\\n# Set skip_prompts to true for quicker startup for finetuned models\\n# make sure to set to false using few-shot models\\nExplainBot.skip_prompts = False\\n\\n# t5 configuration file\\nExplainBot.t5_config = \"./parsing/t5/gin_configs/t5-large.gin\"\\n\\n# User provided prediction model file path\\nExplainBot.model_file_path = \"./tutorials/data/derm_model.pkl\"\\n\\n# Seed\\nExplainBot.seed = 0\\n\\n# The dataset to run the conversation on\\nExplainBot.dataset_file_path = \"./tutorials/data/dataset_derm.csv\"\\n\\n# The background dataset for the conversation\\nExplainBot.background_dataset_file_path = \"./data/background_derm.csv\"\\nExplainBot.name = \"dermatology\"\\n\\n# Dataset feature information\\nExplainBot.dataset_index_column = 0\\nExplainBot.target_variable_name = \"y\"\\nExplainBot.categorical_features = None\\nExplainBot.numerical_features = None\\nExplainBot.remove_underscores = True\\n\\n# Few-shot settings\\nExplainBot.prompt_metric = \"cosine\"\\nExplainBot.prompt_ordering = \"ascending\"\\n\\n# Prompt params\\nPrompts.prompt_cache_size = 1_000_000\\nPrompts.prompt_cache_location = \"./cache/diabetes-prompts.pkl\"\\nPrompts.max_values_per_feature = 2\\nPrompts.sentence_transformer_model_name = \"all-mpnet-base-v2\"\\nPrompts.prompt_folder = \"./explain/prompts\"\\nPrompts.num_per_knn_prompt_template = 1\\nPrompts.num_prompt_template = 7\\n\\n# Explanation Params\\nExplanation.max_cache_size = 1_000_000\\n\\n# MegaExplainer Params\\nMegaExplainer.cache_location = \"./cache/dermatology-explainer.pkl\"\\nMegaExplainer.use_selection = False\\n\\n# Tabular Dice Params\\nTabularDice.cache_location = \"./cache/dermatology-dice-tabular.pkl\"\\n\\n# Conversation params\\nConversation.class_names = {1: \"psoriasis\", 2: \"seboreic dermatitis\", 3: \"lichen planus\", 4: \"pityriasis rosea\", 5: \"cronic dermatitis\", 6: \"pityriasis rubra pilaris\"}\\n\\n# Dataset description\\nDatasetDescription.dataset_objective = \"predict whether someone has certain types of skin conditions\"\\nDatasetDescription.dataset_description = \"dermatology prediction\"\\nDatasetDescription.model_description = \"random forrest\"\\n\\n# Feature definitions\\nExplainBot.feature_definitions = None\\n'"
     },
     "execution_count": 7,
     "metadata": {},
     "output_type": "execute_result"
    }
   ]
  },
  {
   "cell_type": "markdown",
   "source": [
    "We'd place this in the `./configs` directory as `./configs/derm-config.gin`. Finally, we can set the Flask app to run this model and dataset by setting\n",
    "```\n",
    "# Model + dataset configuration specific file\n",
    "GlobalArgs.config = \"./configs/derm-config.gin\"\n",
    "```\n",
    "in the global configuration file `./global_config.gin`\n",
    "\n",
    "After, we should be good to go! We can run\n",
    "```shell\n",
    "python flask_app.py\n",
    "```\n",
    "to start the application."
   ],
   "metadata": {
    "collapsed": false,
    "pycharm": {
     "name": "#%% md\n"
    }
   }
  },
  {
   "cell_type": "code",
   "execution_count": null,
   "outputs": [],
   "source": [],
   "metadata": {
    "collapsed": false,
    "pycharm": {
     "name": "#%%\n"
    }
   }
  }
 ],
 "metadata": {
  "kernelspec": {
   "display_name": "Python 3",
   "language": "python",
   "name": "python3"
  },
  "language_info": {
   "codemirror_mode": {
    "name": "ipython",
    "version": 2
   },
   "file_extension": ".py",
   "mimetype": "text/x-python",
   "name": "python",
   "nbconvert_exporter": "python",
   "pygments_lexer": "ipython2",
   "version": "2.7.6"
  }
 },
 "nbformat": 4,
 "nbformat_minor": 0
}